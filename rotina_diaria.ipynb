{
 "cells": [
  {
   "cell_type": "code",
   "execution_count": 21,
   "metadata": {
    "id": "e3XajXV8fN14"
   },
   "outputs": [],
   "source": [
    "from requests_html import HTMLSession\n",
    "from concurrent.futures import ThreadPoolExecutor\n",
    "import requests\n",
    "import os\n",
    "import shutil\n",
    "import glob\n",
    "import pandas as pd\n",
    "import dask.dataframe as dd\n",
    "import dask.multiprocessing\n",
    "import dask.threaded\n",
    "from dask.diagnostics import ProgressBar\n",
    "ProgressBar().register()"
   ]
  },
  {
   "cell_type": "code",
   "execution_count": 22,
   "metadata": {},
   "outputs": [],
   "source": [
    "def download_file(url):\n",
    "    response = requests.get(url)\n",
    "    if \"content-disposition\" in response.headers:\n",
    "        content_disposition = response.headers[\"content-disposition\"]\n",
    "        filename = content_disposition.split(\"filename=\")[1]\n",
    "    else:\n",
    "        filename = url.split(\"/\")[-1]\n",
    "        with open(filename, mode=\"wb\") as file:\n",
    "            file.write(response.content)\n",
    "        print(f\"Downloaded file {filename}\")"
   ]
  },
  {
   "cell_type": "code",
   "execution_count": 23,
   "metadata": {
    "id": "F9sC0Vp_fjEK"
   },
   "outputs": [
    {
     "name": "stdout",
     "output_type": "stream",
     "text": [
      "<Response [200]>\n"
     ]
    }
   ],
   "source": [
    "# Arquivos a partir de 2021 - ainda passam pelo processo de atualização CSV\n",
    "session = HTMLSession()\n",
    "links = []\n",
    "base_url = 'https://dados.cvm.gov.br/dados/FI/DOC/INF_DIARIO/DADOS/'\n",
    "r = session.get(base_url)\n",
    "print(r)\n",
    "\n",
    "for link in r.html.links:\n",
    "    if not link.endswith('.zip'):\n",
    "        continue\n",
    "    url = base_url+link\n",
    "    links.append(url)"
   ]
  },
  {
   "cell_type": "code",
   "execution_count": 24,
   "metadata": {
    "colab": {
     "base_uri": "https://localhost:8080/",
     "height": 383
    },
    "id": "_l76pqpChj1E",
    "outputId": "9cfe649a-94b1-4cc9-feb2-b36d3ea13142"
   },
   "outputs": [
    {
     "name": "stdout",
     "output_type": "stream",
     "text": [
      "Baixando https://dados.cvm.gov.br/dados/FI/DOC/INF_DIARIO/DADOS/inf_diario_fi_202210.zip\n",
      "Downloaded file inf_diario_fi_202210.zip\n",
      "Baixando https://dados.cvm.gov.br/dados/FI/DOC/INF_DIARIO/DADOS/inf_diario_fi_202301.zip\n",
      "Downloaded file inf_diario_fi_202301.zip\n",
      "Baixando https://dados.cvm.gov.br/dados/FI/DOC/INF_DIARIO/DADOS/inf_diario_fi_202110.zip\n",
      "Downloaded file inf_diario_fi_202110.zip\n",
      "Baixando https://dados.cvm.gov.br/dados/FI/DOC/INF_DIARIO/DADOS/inf_diario_fi_202309.zip\n",
      "Downloaded file inf_diario_fi_202309.zip\n",
      "Baixando https://dados.cvm.gov.br/dados/FI/DOC/INF_DIARIO/DADOS/inf_diario_fi_202306.zip\n",
      "Downloaded file inf_diario_fi_202306.zip\n",
      "Baixando https://dados.cvm.gov.br/dados/FI/DOC/INF_DIARIO/DADOS/inf_diario_fi_202102.zip\n",
      "Downloaded file inf_diario_fi_202102.zip\n",
      "Baixando https://dados.cvm.gov.br/dados/FI/DOC/INF_DIARIO/DADOS/inf_diario_fi_202208.zip\n",
      "Downloaded file inf_diario_fi_202208.zip\n",
      "Baixando https://dados.cvm.gov.br/dados/FI/DOC/INF_DIARIO/DADOS/inf_diario_fi_202108.zip\n",
      "Downloaded file inf_diario_fi_202108.zip\n",
      "Baixando https://dados.cvm.gov.br/dados/FI/DOC/INF_DIARIO/DADOS/inf_diario_fi_202304.zip\n",
      "Downloaded file inf_diario_fi_202304.zip\n",
      "Baixando https://dados.cvm.gov.br/dados/FI/DOC/INF_DIARIO/DADOS/inf_diario_fi_202205.zip\n",
      "Downloaded file inf_diario_fi_202205.zip\n",
      "Baixando https://dados.cvm.gov.br/dados/FI/DOC/INF_DIARIO/DADOS/inf_diario_fi_202308.zip\n",
      "Downloaded file inf_diario_fi_202308.zip\n",
      "Baixando https://dados.cvm.gov.br/dados/FI/DOC/INF_DIARIO/DADOS/inf_diario_fi_202104.zip\n",
      "Downloaded file inf_diario_fi_202104.zip\n",
      "Baixando https://dados.cvm.gov.br/dados/FI/DOC/INF_DIARIO/DADOS/inf_diario_fi_202107.zip\n",
      "Downloaded file inf_diario_fi_202107.zip\n",
      "Baixando https://dados.cvm.gov.br/dados/FI/DOC/INF_DIARIO/DADOS/inf_diario_fi_202109.zip\n",
      "Downloaded file inf_diario_fi_202109.zip\n",
      "Baixando https://dados.cvm.gov.br/dados/FI/DOC/INF_DIARIO/DADOS/inf_diario_fi_202302.zip\n",
      "Downloaded file inf_diario_fi_202302.zip\n",
      "Baixando https://dados.cvm.gov.br/dados/FI/DOC/INF_DIARIO/DADOS/inf_diario_fi_202201.zip\n",
      "Downloaded file inf_diario_fi_202201.zip\n",
      "Baixando https://dados.cvm.gov.br/dados/FI/DOC/INF_DIARIO/DADOS/inf_diario_fi_202204.zip\n",
      "Downloaded file inf_diario_fi_202204.zip\n",
      "Baixando https://dados.cvm.gov.br/dados/FI/DOC/INF_DIARIO/DADOS/inf_diario_fi_202212.zip\n",
      "Downloaded file inf_diario_fi_202212.zip\n",
      "Baixando https://dados.cvm.gov.br/dados/FI/DOC/INF_DIARIO/DADOS/inf_diario_fi_202112.zip\n",
      "Downloaded file inf_diario_fi_202112.zip\n",
      "Baixando https://dados.cvm.gov.br/dados/FI/DOC/INF_DIARIO/DADOS/inf_diario_fi_202203.zip\n",
      "Downloaded file inf_diario_fi_202203.zip\n",
      "Baixando https://dados.cvm.gov.br/dados/FI/DOC/INF_DIARIO/DADOS/inf_diario_fi_202111.zip\n",
      "Downloaded file inf_diario_fi_202111.zip\n",
      "Baixando https://dados.cvm.gov.br/dados/FI/DOC/INF_DIARIO/DADOS/inf_diario_fi_202311.zip\n",
      "Downloaded file inf_diario_fi_202311.zip\n",
      "Baixando https://dados.cvm.gov.br/dados/FI/DOC/INF_DIARIO/DADOS/inf_diario_fi_202106.zip\n",
      "Downloaded file inf_diario_fi_202106.zip\n",
      "Baixando https://dados.cvm.gov.br/dados/FI/DOC/INF_DIARIO/DADOS/inf_diario_fi_202211.zip\n",
      "Downloaded file inf_diario_fi_202211.zip\n",
      "Baixando https://dados.cvm.gov.br/dados/FI/DOC/INF_DIARIO/DADOS/inf_diario_fi_202305.zip\n",
      "Downloaded file inf_diario_fi_202305.zip\n",
      "Baixando https://dados.cvm.gov.br/dados/FI/DOC/INF_DIARIO/DADOS/inf_diario_fi_202209.zip\n",
      "Downloaded file inf_diario_fi_202209.zip\n",
      "Baixando https://dados.cvm.gov.br/dados/FI/DOC/INF_DIARIO/DADOS/inf_diario_fi_202310.zip\n",
      "Downloaded file inf_diario_fi_202310.zip\n",
      "Baixando https://dados.cvm.gov.br/dados/FI/DOC/INF_DIARIO/DADOS/inf_diario_fi_202103.zip\n",
      "Downloaded file inf_diario_fi_202103.zip\n",
      "Baixando https://dados.cvm.gov.br/dados/FI/DOC/INF_DIARIO/DADOS/inf_diario_fi_202207.zip\n",
      "Downloaded file inf_diario_fi_202207.zip\n",
      "Baixando https://dados.cvm.gov.br/dados/FI/DOC/INF_DIARIO/DADOS/inf_diario_fi_202202.zip\n",
      "Downloaded file inf_diario_fi_202202.zip\n",
      "Baixando https://dados.cvm.gov.br/dados/FI/DOC/INF_DIARIO/DADOS/inf_diario_fi_202101.zip\n",
      "Downloaded file inf_diario_fi_202101.zip\n",
      "Baixando https://dados.cvm.gov.br/dados/FI/DOC/INF_DIARIO/DADOS/inf_diario_fi_202312.zip\n",
      "Downloaded file inf_diario_fi_202312.zip\n",
      "Baixando https://dados.cvm.gov.br/dados/FI/DOC/INF_DIARIO/DADOS/inf_diario_fi_202303.zip\n",
      "Downloaded file inf_diario_fi_202303.zip\n",
      "Baixando https://dados.cvm.gov.br/dados/FI/DOC/INF_DIARIO/DADOS/inf_diario_fi_202401.zip\n",
      "Downloaded file inf_diario_fi_202401.zip\n",
      "Baixando https://dados.cvm.gov.br/dados/FI/DOC/INF_DIARIO/DADOS/inf_diario_fi_202105.zip\n",
      "Downloaded file inf_diario_fi_202105.zip\n",
      "Baixando https://dados.cvm.gov.br/dados/FI/DOC/INF_DIARIO/DADOS/inf_diario_fi_202307.zip\n",
      "Downloaded file inf_diario_fi_202307.zip\n",
      "Baixando https://dados.cvm.gov.br/dados/FI/DOC/INF_DIARIO/DADOS/inf_diario_fi_202206.zip\n",
      "Downloaded file inf_diario_fi_202206.zip\n"
     ]
    }
   ],
   "source": [
    "for link in links:\n",
    "    print('Baixando', link)\n",
    "    download_file(link)"
   ]
  },
  {
   "cell_type": "code",
   "execution_count": 25,
   "metadata": {},
   "outputs": [
    {
     "name": "stdout",
     "output_type": "stream",
     "text": [
      "Movendo arquivos zip para a pasta ./zip\n",
      "inf_diario_fi_202308.zip\n",
      "inf_diario_fi_202309.zip\n",
      "inf_diario_fi_202109.zip\n",
      "inf_diario_fi_202108.zip\n",
      "inf_diario_fi_202208.zip\n",
      "inf_diario_fi_202209.zip\n",
      "inf_diario_fi_202204.zip\n",
      "inf_diario_fi_202210.zip\n",
      "inf_diario_fi_202211.zip\n",
      "inf_diario_fi_202205.zip\n",
      "inf_diario_fi_202207.zip\n",
      "inf_diario_fi_202401.zip\n",
      "inf_diario_fi_202206.zip\n",
      "inf_diario_fi_202212.zip\n",
      "inf_diario_fi_202202.zip\n",
      "inf_diario_fi_202203.zip\n",
      "inf_diario_fi_202201.zip\n",
      "inf_diario_fi_202307.zip\n",
      "inf_diario_fi_202111.zip\n",
      "inf_diario_fi_202105.zip\n",
      "inf_diario_fi_202104.zip\n",
      "inf_diario_fi_202110.zip\n",
      "inf_diario_fi_202306.zip\n",
      "inf_diario_fi_202312.zip\n",
      "inf_diario_fi_202304.zip\n",
      "inf_diario_fi_202310.zip\n",
      "inf_diario_fi_202106.zip\n",
      "inf_diario_fi_202112.zip\n",
      "inf_diario_fi_202107.zip\n",
      "inf_diario_fi_202311.zip\n",
      "inf_diario_fi_202305.zip\n",
      "inf_diario_fi_202301.zip\n",
      "inf_diario_fi_202103.zip\n",
      "inf_diario_fi_202102.zip\n",
      "inf_diario_fi_202302.zip\n",
      "inf_diario_fi_202101.zip\n",
      "inf_diario_fi_202303.zip\n",
      "ok\n"
     ]
    }
   ],
   "source": [
    "print('Movendo arquivos zip para a pasta ./zip')\n",
    "for file_name in os.listdir():\n",
    "    if not file_name.endswith('.zip'):\n",
    "        continue\n",
    "    if not os.path.exists(os.path.join('.', 'zip')):\n",
    "        os.mkdir('zip')\n",
    "    print(file_name)\n",
    "    shutil.unpack_archive(file_name)\n",
    "    shutil.move(\n",
    "        os.path.join(file_name),\n",
    "        os.path.join('zip', file_name)\n",
    "    )\n",
    "print('ok')"
   ]
  },
  {
   "cell_type": "code",
   "execution_count": 26,
   "metadata": {},
   "outputs": [
    {
     "name": "stdout",
     "output_type": "stream",
     "text": [
      "Movendo arquivos csv para a pasta ./csv\n",
      "inf_diario_fi_202309.csv\n",
      "inf_diario_fi_202308.csv\n",
      "inf_diario_fi_202108.csv\n",
      "inf_diario_fi_202109.csv\n",
      "inf_diario_fi_202209.csv\n",
      "inf_diario_fi_202208.csv\n",
      "inf_diario_fi_202203.csv\n",
      "inf_diario_fi_202202.csv\n",
      "inf_diario_fi_202201.csv\n",
      "inf_diario_fi_202205.csv\n",
      "inf_diario_fi_202211.csv\n",
      "inf_diario_fi_202210.csv\n",
      "inf_diario_fi_202204.csv\n",
      "inf_diario_fi_202212.csv\n",
      "inf_diario_fi_202206.csv\n",
      "inf_diario_fi_202207.csv\n",
      "inf_diario_fi_202401.csv\n",
      "inf_diario_fi_202102.csv\n",
      "inf_diario_fi_202301.csv\n",
      "inf_diario_fi_202103.csv\n",
      "inf_diario_fi_202101.csv\n",
      "inf_diario_fi_202303.csv\n",
      "inf_diario_fi_202302.csv\n",
      "inf_diario_fi_202110.csv\n",
      "inf_diario_fi_202104.csv\n",
      "inf_diario_fi_202312.csv\n",
      "inf_diario_fi_202306.csv\n",
      "inf_diario_fi_202307.csv\n",
      "inf_diario_fi_202105.csv\n",
      "inf_diario_fi_202111.csv\n",
      "inf_diario_fi_202107.csv\n",
      "inf_diario_fi_202305.csv\n",
      "inf_diario_fi_202311.csv\n",
      "inf_diario_fi_202310.csv\n",
      "inf_diario_fi_202304.csv\n",
      "inf_diario_fi_202112.csv\n",
      "inf_diario_fi_202106.csv\n",
      "ok\n"
     ]
    }
   ],
   "source": [
    "print('Movendo arquivos csv para a pasta ./csv')\n",
    "for file_name in os.listdir():\n",
    "    if not file_name.endswith('.csv'):\n",
    "        continue\n",
    "    if not os.path.exists(os.path.join('.', 'csv')):\n",
    "        os.mkdir('csv')\n",
    "    print(file_name)\n",
    "    shutil.move(\n",
    "        os.path.join(file_name),\n",
    "        os.path.join('csv', file_name)\n",
    "    )\n",
    "print('ok')"
   ]
  }
 ],
 "metadata": {
  "colab": {
   "provenance": []
  },
  "kernelspec": {
   "display_name": "Python 3 (ipykernel)",
   "language": "python",
   "name": "python3"
  },
  "language_info": {
   "codemirror_mode": {
    "name": "ipython",
    "version": 3
   },
   "file_extension": ".py",
   "mimetype": "text/x-python",
   "name": "python",
   "nbconvert_exporter": "python",
   "pygments_lexer": "ipython3",
   "version": "3.11.7"
  }
 },
 "nbformat": 4,
 "nbformat_minor": 4
}
